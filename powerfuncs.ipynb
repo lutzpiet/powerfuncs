{
 "cells": [
  {
   "cell_type": "code",
   "execution_count": 1,
   "id": "894e4b37-9f87-4805-8678-7ff9ed7da829",
   "metadata": {},
   "outputs": [],
   "source": [
    "import numpy as np\n",
    "import matplotlib.pyplot as plt\n",
    "from matplotlib.ticker import MultipleLocator\n",
    "import ipywidgets as widgets\n",
    "%matplotlib widget\n",
    "\n",
    "\n",
    "def adjust_spines(ax, spines):\n",
    "    for loc, spine in ax.spines.items():\n",
    "        if loc in spines:\n",
    "            spine.set_position(('outward', 10))  # outward by 10 points\n",
    "        else:\n",
    "            spine.set_color('none')  # don't draw spine\n",
    "\n",
    "    # turn off ticks where there is no spine\n",
    "    if 'left' in spines:\n",
    "        ax.yaxis.set_ticks_position('left')\n",
    "    else:\n",
    "        # no yaxis ticks\n",
    "        ax.yaxis.set_ticks([])\n",
    "\n",
    "    if 'bottom' in spines:\n",
    "        ax.xaxis.set_ticks_position('bottom')\n",
    "    else:\n",
    "        # no xaxis ticks\n",
    "        ax.xaxis.set_ticks([])\n",
    "\n",
    "def nearest(arr, val):\n",
    "    idx = np.argmin(np.abs(arr - val))\n",
    "    return idx, arr[idx]\n",
    "\n",
    "def unispace(start, stop, step):\n",
    "    a, b = (np.ceil(start/step), np.floor(stop/step))\n",
    "    return np.arange(a, b+1) * step"
   ]
  },
  {
   "cell_type": "code",
   "execution_count": 2,
   "id": "e6e30d23-3235-41a0-92a8-4d04223d5c48",
   "metadata": {},
   "outputs": [],
   "source": [
    "_a, _n, _x0, _y0 = 1, 1, 0, 0\n",
    "_x1, _x2, _dx = -5, 5, 0.1\n",
    "_y1, _y2 = -5, 5\n",
    "\n",
    "def f(x, a=_a, n=_n, x0=_x0, y0=_y0):\n",
    "    if n > 0:\n",
    "        return y0 + a * (x - x0)**n\n",
    "    elif n == 0:\n",
    "        return y0 + a * np.ones(x.size)\n",
    "    else:\n",
    "        y = np.full(x.size, np.nan)\n",
    "        i, _ = nearest(x, x0)\n",
    "        mask = np.arange(len(y)) != i\n",
    "        y[mask] = y0 + a * (x[mask] - x0)**n\n",
    "        y[i] = np.nan\n",
    "        return y  \n",
    "\n",
    "x = unispace(_x1, _x2, _dx)"
   ]
  },
  {
   "cell_type": "code",
   "execution_count": 3,
   "id": "3fa393be-99e8-46c4-9831-f545b091901f",
   "metadata": {},
   "outputs": [],
   "source": [
    "out = widgets.Output()\n",
    "with out:\n",
    "    fig = plt.figure(figsize=(5, 5), constrained_layout=True)\n",
    "    axs = fig.add_subplot()\n",
    "    plt.show(fig)\n",
    "    \n",
    "fig.canvas.toolbar_position = 'right'\n",
    "fig.canvas.header_visible = False\n",
    "\n",
    "axs.set_xlim(_x1, _x2)\n",
    "axs.set_ylim(_y1, _y2)\n",
    "axs.set_aspect('equal')\n",
    "\n",
    "adjust_spines(axs, ['left', 'bottom'])\n",
    "axs.set_xlabel(r'$x$')\n",
    "axs.set_ylabel(r'$y$')\n",
    "\n",
    "axs.grid(True)\n",
    "axs.axhline(0, color='grey', ls='-', lw=0.8)\n",
    "axs.axvline(0, color='grey', ls='-', lw=0.8)\n",
    "\n",
    "line, = axs.plot(x, f(x))"
   ]
  },
  {
   "cell_type": "code",
   "execution_count": 5,
   "id": "1a3aeafc-f688-4370-9bfe-17fc1c1bb8cc",
   "metadata": {},
   "outputs": [
    {
     "data": {
      "application/vnd.jupyter.widget-view+json": {
       "model_id": "d502326e50964503a6d7f85863d50eda",
       "version_major": 2,
       "version_minor": 0
      },
      "text/plain": [
       "HBox(children=(VBox(children=(Label(value='\\\\(y = f(x) = a \\\\cdot (x - x_0)^n + y_0\\\\)'), Accordion(children=(…"
      ]
     },
     "metadata": {},
     "output_type": "display_data"
    }
   ],
   "source": [
    "slider_a = widgets.FloatSlider(value=_a, min=-4, max=4, step=0.2, continuous_update=False, description=r'\\(a\\)', layout=widgets.Layout(width='400px'))\n",
    "slider_n = widgets.IntSlider(value=_n, min=-8, max=8, step=1, continuous_update=False, description=r'\\(n\\)', layout=widgets.Layout(width='400px'))\n",
    "slider_x0 = widgets.FloatSlider(value=_x0, min=-4, max=4, step=0.2, continuous_update=False, description=r'\\(x_0\\)', layout=widgets.Layout(width='400px'))\n",
    "slider_y0 = widgets.FloatSlider(value=_y0, min=-4, max=4, step=0.2, continuous_update=False, description=r'\\(y_0\\)', layout=widgets.Layout(width='400px'))\n",
    "\n",
    "slider_x12 = widgets.FloatRangeSlider(value=[_x1, _x2], min=-10, max=10, step=0.5, continuous_update=False, description=r'\\(x\\)', layout=widgets.Layout(width='400px'))\n",
    "slider_y12 = widgets.FloatRangeSlider(value=[_y1, _y2], min=-10, max=10, step=0.5, continuous_update=False, description=r'\\(y\\)', layout=widgets.Layout(width='400px'))\n",
    "slider_dx = widgets.FloatLogSlider(value=_dx, base=10, min=-3, max=0, step=1/4, continuous_update=False, description=r'\\(\\mathrm{d}x\\)', layout=widgets.Layout(width='400px'))\n",
    "\n",
    "def up_data(_):\n",
    "    x = unispace(slider_x12.value[0], slider_x12.value[1], slider_dx.value)\n",
    "    line.set_data(x, f(x, a=slider_a.value, n=slider_n.value, x0=slider_x0.value, y0=slider_y0.value))\n",
    "    # fig.canvas.draw()\n",
    "    \n",
    "def up_xlim(_):\n",
    "    axs.set_xlim(slider_x12.value[0], slider_x12.value[1])\n",
    "    up_data(_)\n",
    "    \n",
    "def up_ylim(_):\n",
    "    axs.set_ylim(slider_y12.value[0], slider_y12.value[1])\n",
    "    # fig.canvas.draw()\n",
    "\n",
    "slider_a.observe(up_data)\n",
    "slider_n.observe(up_data)\n",
    "slider_x0.observe(up_data)\n",
    "slider_y0.observe(up_data)\n",
    "slider_x12.observe(up_xlim)\n",
    "slider_dx.observe(up_xlim)\n",
    "slider_y12.observe(up_ylim)\n",
    "\n",
    "label = widgets.Label(r'\\(y = f(x) = a \\cdot (x - x_0)^n + y_0\\)')\n",
    "contr_params = widgets.VBox([slider_a, slider_n, slider_x0, slider_y0])\n",
    "contr_lims = widgets.VBox([slider_x12, slider_dx, slider_y12])\n",
    "controls = widgets.Accordion(children=[contr_params, contr_lims])\n",
    "\n",
    "widgets.HBox([widgets.VBox([label, controls]), out])"
   ]
  },
  {
   "cell_type": "code",
   "execution_count": null,
   "id": "c624b8e9-e15b-4139-9882-f9447b792074",
   "metadata": {},
   "outputs": [],
   "source": []
  }
 ],
 "metadata": {
  "kernelspec": {
   "display_name": "Python 3 (ipykernel)",
   "language": "python",
   "name": "python3"
  },
  "language_info": {
   "codemirror_mode": {
    "name": "ipython",
    "version": 3
   },
   "file_extension": ".py",
   "mimetype": "text/x-python",
   "name": "python",
   "nbconvert_exporter": "python",
   "pygments_lexer": "ipython3",
   "version": "3.8.12"
  }
 },
 "nbformat": 4,
 "nbformat_minor": 5
}
